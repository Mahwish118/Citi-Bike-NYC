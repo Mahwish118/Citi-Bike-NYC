{
  "nbformat": 4,
  "nbformat_minor": 0,
  "metadata": {
    "colab": {
      "name": "Python for beginner (Part 2.ipynb",
      "provenance": [],
      "collapsed_sections": [],
      "authorship_tag": "ABX9TyNRWZKBeA+zbrG8/eqHX7FN",
      "include_colab_link": true
    },
    "kernelspec": {
      "name": "python3",
      "display_name": "Python 3"
    }
  },
  "cells": [
    {
      "cell_type": "markdown",
      "metadata": {
        "id": "view-in-github",
        "colab_type": "text"
      },
      "source": [
        "<a href=\"https://colab.research.google.com/github/Mahwish118/Citi-Bike-NYC/blob/master/Python_for_beginner_(Part_2).ipynb\" target=\"_parent\"><img src=\"https://colab.research.google.com/assets/colab-badge.svg\" alt=\"Open In Colab\"/></a>"
      ]
    },
    {
      "cell_type": "code",
      "metadata": {
        "id": "Pb2O7uhl4uG9",
        "colab_type": "code",
        "colab": {}
      },
      "source": [
        "# For loop- break and continue"
      ],
      "execution_count": null,
      "outputs": []
    },
    {
      "cell_type": "markdown",
      "metadata": {
        "id": "F8KtHQ3S4yUu",
        "colab_type": "text"
      },
      "source": [
        "For loop if we want to break the loop permanently we use break \n",
        "\n",
        "\n",
        "\n",
        "For loop if er want to skip the part of the forloop then we use continue in for"
      ]
    },
    {
      "cell_type": "code",
      "metadata": {
        "id": "bjXrSTo74xiX",
        "colab_type": "code",
        "colab": {
          "base_uri": "https://localhost:8080/",
          "height": 50
        },
        "outputId": "b7a30607-6983-4608-b815-eec7fa00aea0"
      },
      "source": [
        "country = [\"Pakistan\",\"USA\"]\n",
        "\n",
        "\n",
        "for a in country:\n",
        "    print(a)"
      ],
      "execution_count": 2,
      "outputs": [
        {
          "output_type": "stream",
          "text": [
            "Pakistan\n",
            "USA\n"
          ],
          "name": "stdout"
        }
      ]
    },
    {
      "cell_type": "code",
      "metadata": {
        "id": "Nly18syM5g8j",
        "colab_type": "code",
        "colab": {}
      },
      "source": [
        "### For loop with break "
      ],
      "execution_count": 3,
      "outputs": []
    },
    {
      "cell_type": "code",
      "metadata": {
        "id": "8qAVl_w-5uNW",
        "colab_type": "code",
        "colab": {
          "base_uri": "https://localhost:8080/",
          "height": 185
        },
        "outputId": "b8604054-d95a-4fe6-bb67-9d280250e460"
      },
      "source": [
        "\n",
        "for number in range(10):\n",
        "    if number %3 == 6:#0/3 reminder is 0\n",
        "        break\n",
        "    print(number) "
      ],
      "execution_count": 4,
      "outputs": [
        {
          "output_type": "stream",
          "text": [
            "0\n",
            "1\n",
            "2\n",
            "3\n",
            "4\n",
            "5\n",
            "6\n",
            "7\n",
            "8\n",
            "9\n"
          ],
          "name": "stdout"
        }
      ]
    },
    {
      "cell_type": "code",
      "metadata": {
        "id": "kgqaj70v50Tj",
        "colab_type": "code",
        "colab": {}
      },
      "source": [
        "#For loop with continue"
      ],
      "execution_count": null,
      "outputs": []
    },
    {
      "cell_type": "code",
      "metadata": {
        "id": "rdXd5mVj52TH",
        "colab_type": "code",
        "colab": {
          "base_uri": "https://localhost:8080/",
          "height": 168
        },
        "outputId": "16653b66-ee1b-477b-e392-ba4a72ff3a7d"
      },
      "source": [
        "for number in range(10):\n",
        "    if number ==7:\n",
        "        continue\n",
        "    print(number)"
      ],
      "execution_count": 5,
      "outputs": [
        {
          "output_type": "stream",
          "text": [
            "0\n",
            "1\n",
            "2\n",
            "3\n",
            "4\n",
            "5\n",
            "6\n",
            "8\n",
            "9\n"
          ],
          "name": "stdout"
        }
      ]
    },
    {
      "cell_type": "markdown",
      "metadata": {
        "id": "MWmzvJm06CCd",
        "colab_type": "text"
      },
      "source": [
        "**Nested For loop**"
      ]
    },
    {
      "cell_type": "code",
      "metadata": {
        "id": "uSQBeTE75-98",
        "colab_type": "code",
        "colab": {
          "base_uri": "https://localhost:8080/",
          "height": 605
        },
        "outputId": "3ddc82fd-3eac-4fcd-81b2-bdf8084d57af"
      },
      "source": [
        "for a in range(5):\n",
        "    print(\"Inner loop begins\")\n",
        "    for char in \"Canada\":\n",
        "        print(a, char)\n",
        "     "
      ],
      "execution_count": 6,
      "outputs": [
        {
          "output_type": "stream",
          "text": [
            "Inner loop begins\n",
            "0 C\n",
            "0 a\n",
            "0 n\n",
            "0 a\n",
            "0 d\n",
            "0 a\n",
            "Inner loop begins\n",
            "1 C\n",
            "1 a\n",
            "1 n\n",
            "1 a\n",
            "1 d\n",
            "1 a\n",
            "Inner loop begins\n",
            "2 C\n",
            "2 a\n",
            "2 n\n",
            "2 a\n",
            "2 d\n",
            "2 a\n",
            "Inner loop begins\n",
            "3 C\n",
            "3 a\n",
            "3 n\n",
            "3 a\n",
            "3 d\n",
            "3 a\n",
            "Inner loop begins\n",
            "4 C\n",
            "4 a\n",
            "4 n\n",
            "4 a\n",
            "4 d\n",
            "4 a\n"
          ],
          "name": "stdout"
        }
      ]
    },
    {
      "cell_type": "code",
      "metadata": {
        "id": "Bygha_wX3c9o",
        "colab_type": "code",
        "colab": {
          "base_uri": "https://localhost:8080/",
          "height": 202
        },
        "outputId": "fa2ab338-4db2-4d4c-adc6-3e6525ccd482"
      },
      "source": [
        "#time table with for loop\n",
        "time_table = int(input(\"Enter Time Table\"))#here we use int it means it is type casting\n",
        "for a in range(1,11):\n",
        "        print(f\"{time_table} * {a} = {time_table*a}\")"
      ],
      "execution_count": 1,
      "outputs": [
        {
          "output_type": "stream",
          "text": [
            "Enter Time Table5\n",
            "5 * 1 = 5\n",
            "5 * 2 = 10\n",
            "5 * 3 = 15\n",
            "5 * 4 = 20\n",
            "5 * 5 = 25\n",
            "5 * 6 = 30\n",
            "5 * 7 = 35\n",
            "5 * 8 = 40\n",
            "5 * 9 = 45\n",
            "5 * 10 = 50\n"
          ],
          "name": "stdout"
        }
      ]
    },
    {
      "cell_type": "code",
      "metadata": {
        "id": "7yECtk013mn-",
        "colab_type": "code",
        "colab": {}
      },
      "source": [
        "#now we want to print number of the tables through nested for loop\n"
      ],
      "execution_count": null,
      "outputs": []
    },
    {
      "cell_type": "markdown",
      "metadata": {
        "id": "jGr1SP6I6Na5",
        "colab_type": "text"
      },
      "source": [
        "**Now we want to print number of the tables through nested for loop**"
      ]
    },
    {
      "cell_type": "code",
      "metadata": {
        "id": "Z3rTK-xX6VZ3",
        "colab_type": "code",
        "colab": {
          "base_uri": "https://localhost:8080/",
          "height": 202
        },
        "outputId": "12bc146a-1344-48fe-f5c9-da4a116e4928"
      },
      "source": [
        "time_table = int(input(\"Enter TimeTable\"))\n",
        "for time_tables in  range(2,time_table+1):\n",
        "    for number in range (1,11):\n",
        "        print(f\"{time_tables} *{number} = {time_tables*number}\")"
      ],
      "execution_count": 14,
      "outputs": [
        {
          "output_type": "stream",
          "text": [
            "Enter TimeTable2\n",
            "2 *1 = 2\n",
            "2 *2 = 4\n",
            "2 *3 = 6\n",
            "2 *4 = 8\n",
            "2 *5 = 10\n",
            "2 *6 = 12\n",
            "2 *7 = 14\n",
            "2 *8 = 16\n",
            "2 *9 = 18\n",
            "2 *10 = 20\n"
          ],
          "name": "stdout"
        }
      ]
    }
  ]
}